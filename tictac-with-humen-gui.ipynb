{
 "cells": [
  {
   "cell_type": "code",
   "execution_count": 1,
   "id": "ea7f8ae8-5980-4cec-a9d4-a39e4bb5dd1f",
   "metadata": {},
   "outputs": [],
   "source": [
    "import pickle\n",
    "from copy import deepcopy\n",
    "import ipywidgets as widgets"
   ]
  },
  {
   "cell_type": "code",
   "execution_count": 2,
   "id": "8247fc39-6db7-4da4-ae5c-b083a5dcfaf1",
   "metadata": {},
   "outputs": [],
   "source": [
    "def load_weights(difficulty):\n",
    "    weight_files = {\n",
    "        'easy': 'tic_tac_toe_weights_easy.pkl',\n",
    "        'medium': 'tic_tac_toe_weights_medium.pkl',\n",
    "        'hard': 'tic_tac_toe_weights_hard.pkl'\n",
    "    }\n",
    "    with open(weight_files[difficulty], 'rb') as f:\n",
    "        return pickle.load(f)"
   ]
  },
  {
   "cell_type": "code",
   "execution_count": 3,
   "id": "8dcb1406-63c9-4ec4-afa4-2e8c796e4722",
   "metadata": {},
   "outputs": [],
   "source": [
    "class TicTacToe:\n",
    "    def __init__(self):\n",
    "        self.board = [0] * 9\n",
    "        self.game_over = False\n",
    "        self.winner = None\n",
    "\n",
    "    def move(self, position, player):\n",
    "        if self.board[position] == 0 and not self.game_over:\n",
    "            self.board[position] = player\n",
    "            self.check_game_over(player)\n",
    "\n",
    "    def check_game_over(self, player):\n",
    "        winning_positions = [\n",
    "            [0, 1, 2], [3, 4, 5], [6, 7, 8], \n",
    "            [0, 3, 6], [1, 4, 7], [2, 5, 8],  \n",
    "            [0, 4, 8], [2, 4, 6]            \n",
    "        ]\n",
    "        for positions in winning_positions:\n",
    "            if all(self.board[pos] == player for pos in positions):\n",
    "                self.game_over = True\n",
    "                self.winner = player\n",
    "                return\n",
    "        if 0 not in self.board:\n",
    "            self.game_over = True \n",
    "\n",
    "    def reset(self):\n",
    "        self.board = [0] * 9\n",
    "        self.game_over = False\n",
    "        self.winner = None\n"
   ]
  },
  {
   "cell_type": "code",
   "execution_count": 4,
   "id": "79af9678-8550-4bd7-b17c-113f839ca628",
   "metadata": {},
   "outputs": [],
   "source": [
    "def features(state):\n",
    "    winning_combinations = [\n",
    "        [0, 1, 2], [3, 4, 5], [6, 7, 8],  \n",
    "        [0, 3, 6], [1, 4, 7], [2, 5, 8], \n",
    "        [0, 4, 8], [2, 4, 6]             \n",
    "    ]\n",
    "    x0 = 1\n",
    "    x1 = x2 = x3 = x4 = x5 = x6 = 0\n",
    "\n",
    "    x3 = 1 if state[4] == 1 else 0\n",
    "\n",
    "    for corner in [0, 2, 6, 8]:\n",
    "        if state[corner] == 1:\n",
    "            x4 += 1\n",
    "\n",
    "    for combo in winning_combinations:\n",
    "        pieces = [state[i] for i in combo]\n",
    "        if pieces.count(1) == 2 and pieces.count(0) == 1:\n",
    "            x1 += 1\n",
    "        elif pieces.count(-1) == 2 and pieces.count(0) == 1:\n",
    "            x2 += 1\n",
    "        elif pieces.count(1) == 1 and pieces.count(0) == 2:\n",
    "            x5 += 1\n",
    "        elif pieces.count(1) == 3:\n",
    "            x6 += 1\n",
    "\n",
    "    return [x0, x1, x2, x3, x4, x5, x6]"
   ]
  },
  {
   "cell_type": "code",
   "execution_count": 5,
   "id": "cbbf8a65-f4a8-4af7-9c53-9df8171e6ce1",
   "metadata": {},
   "outputs": [],
   "source": [
    "def value(state, weights):\n",
    "    return sum(f*w for f, w in zip(features(state), weights))"
   ]
  },
  {
   "cell_type": "code",
   "execution_count": 6,
   "id": "1e422e60-9608-4901-8f05-4175fb017479",
   "metadata": {},
   "outputs": [],
   "source": [
    "def play_with_agent(game, weights):\n",
    "    while not game.game_over:\n",
    "        player_move = int(input(\"Your move (0-8): \"))\n",
    "        game.move(player_move, -1)\n",
    "        if game.game_over:\n",
    "            break\n",
    "\n",
    "        best_move = None\n",
    "        best_value = -float('inf')\n",
    "        for move in range(9):\n",
    "            if game.board[move] == 0:\n",
    "                game_copy = deepcopy(game)\n",
    "                game_copy.move(move, 1)\n",
    "                move_value = value(game_copy.board, weights)\n",
    "                if move_value > best_value:\n",
    "                    best_value = move_value\n",
    "                    best_move = move\n",
    "        print(f\"Agent moves at {best_move}\")\n",
    "        game.move(best_move, 1)"
   ]
  },
  {
   "cell_type": "code",
   "execution_count": 7,
   "id": "d5ac25f3-576d-46ce-89c3-da7fee271d7e",
   "metadata": {},
   "outputs": [
    {
     "name": "stdout",
     "output_type": "stream",
     "text": [
      "Starting a new game between two trained agents. Agent 1 is 'X', and Agent 2 is 'O'.\n"
     ]
    }
   ],
   "source": [
    "game = TicTacToe()\n",
    "print(\"Starting a new game between two trained agents. Agent 1 is 'X', and Agent 2 is 'O'.\")\n",
    "\n",
    "def print_board(state):\n",
    "    symbols = {0: \" \", 1: \"X\", -1: \"O\"}\n",
    "    print(\"\\nBoard:\")\n",
    "    for i in range(3):\n",
    "        print(\"|\".join(symbols[state[j]] for j in range(i * 3, (i + 1) * 3)))\n",
    "        if i < 2:\n",
    "            print(\"-----\")\n",
    "def create_board_gui(play_game_with_agent_gui):\n",
    "    buttons = [widgets.Button(description='', button_style='', layout=widgets.Layout(width='60px', height='60px')) for _ in range(9)]\n",
    "\n",
    "    difficulty_dropdown = widgets.Dropdown(\n",
    "        options=['easy', 'medium', 'hard'],\n",
    "        value='medium',\n",
    "        description='Difficulty:',\n",
    "    )\n",
    "    \n",
    "    outcome_label = widgets.Label(value=\"Select difficulty to start the game.\")\n",
    "\n",
    "    for button in buttons:\n",
    "        button.on_click(lambda b: play_game_with_agent_gui(b, buttons, difficulty_dropdown.value, outcome_label))\n",
    "\n",
    "    game_board = widgets.GridBox(buttons, layout=widgets.Layout(grid_template_columns=\"repeat(3, 60px)\"))\n",
    "    display(difficulty_dropdown, game_board, outcome_label)\n",
    "\n",
    "def agent_move(game, player, weights):\n",
    "    best_move = None\n",
    "    best_value = -float('inf') if player == 1 else float('inf')\n",
    "    for move in range(9):\n",
    "        if game.board[move] == 0:\n",
    "            game_copy = deepcopy(game)\n",
    "            game_copy.move(move, player)\n",
    "            move_value = value(game_copy.board, weights)\n",
    "            if (player == 1 and move_value > best_value) or (player == -1 and move_value < best_value):\n",
    "                best_value = move_value\n",
    "                best_move = move\n",
    "    return best_move\n",
    "\n",
    "def play_game_with_agent_gui(button, buttons, difficulty, outcome_label):\n",
    "    index = buttons.index(button)\n",
    "    \n",
    "    if game.game_over or game.board[index] != 0:\n",
    "        return\n",
    "    \n",
    "    game.move(index, -1)\n",
    "    buttons[index].description = 'O'\n",
    "    buttons[index].disabled = True\n",
    "    \n",
    "    if game.game_over:\n",
    "        display_outcome(outcome_label)\n",
    "        return\n",
    "    \n",
    "    global weights\n",
    "    weights = load_weights(difficulty)\n",
    "    agent_move_position = agent_move(game, 1, weights)\n",
    "    game.move(agent_move_position, 1)\n",
    "    buttons[agent_move_position].description = 'X'\n",
    "    buttons[agent_move_position].disabled = True\n",
    "    \n",
    "    if game.game_over:\n",
    "        display_outcome(outcome_label)\n",
    "\n",
    "def display_outcome(outcome_label):\n",
    " \n",
    "    if game.winner is None:\n",
    "        outcome_label.value = \"The game is a draw.\"\n",
    "    elif game.winner == 1:\n",
    "        outcome_label.value = \"The agent wins!\"\n",
    "    else:\n",
    "        outcome_label.value = \"Congratulations, you win!\""
   ]
  },
  {
   "cell_type": "code",
   "execution_count": 8,
   "id": "45dd5532-4b96-45c7-b486-491b06756af2",
   "metadata": {},
   "outputs": [
    {
     "data": {
      "application/vnd.jupyter.widget-view+json": {
       "model_id": "af2bd32a08544fffb33483d0a4816348",
       "version_major": 2,
       "version_minor": 0
      },
      "text/plain": [
       "Dropdown(description='Difficulty:', index=1, options=('easy', 'medium', 'hard'), value='medium')"
      ]
     },
     "metadata": {},
     "output_type": "display_data"
    },
    {
     "data": {
      "application/vnd.jupyter.widget-view+json": {
       "model_id": "1319a41133444e088ae7c77ebd03b524",
       "version_major": 2,
       "version_minor": 0
      },
      "text/plain": [
       "GridBox(children=(Button(layout=Layout(height='60px', width='60px'), style=ButtonStyle()), Button(layout=Layou…"
      ]
     },
     "metadata": {},
     "output_type": "display_data"
    },
    {
     "data": {
      "application/vnd.jupyter.widget-view+json": {
       "model_id": "491aa8627dda47f7bffc149a121dbda8",
       "version_major": 2,
       "version_minor": 0
      },
      "text/plain": [
       "Label(value='Select difficulty to start the game.')"
      ]
     },
     "metadata": {},
     "output_type": "display_data"
    }
   ],
   "source": [
    "game = TicTacToe()\n",
    "weights = load_weights('medium')\n",
    "create_board_gui(play_game_with_agent_gui)"
   ]
  }
 ],
 "metadata": {
  "kernelspec": {
   "display_name": "Python 3 (ipykernel)",
   "language": "python",
   "name": "python3"
  },
  "language_info": {
   "codemirror_mode": {
    "name": "ipython",
    "version": 3
   },
   "file_extension": ".py",
   "mimetype": "text/x-python",
   "name": "python",
   "nbconvert_exporter": "python",
   "pygments_lexer": "ipython3",
   "version": "3.11.5"
  }
 },
 "nbformat": 4,
 "nbformat_minor": 5
}
